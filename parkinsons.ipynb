{
 "cells": [
  {
   "cell_type": "code",
   "execution_count": 1,
   "id": "e6272113-d771-4756-9c7d-4a8ed056417c",
   "metadata": {},
   "outputs": [],
   "source": [
    "import pandas as pd\n",
    "import matplotlib.pyplot as plt\n",
    "from xgboost import XGBClassifier\n",
    "from sklearn.model_selection import train_test_split\n",
    "from sklearn.metrics import classification_report, ConfusionMatrixDisplay, roc_auc_score\n",
    "from sklearn.metrics import ConfusionMatrixDisplay\n",
    "data = pd.read_csv('./parkinsons.data')"
   ]
  },
  {
   "cell_type": "code",
   "execution_count": 2,
   "id": "8a43c590-2577-4891-89df-765fc5af5c01",
   "metadata": {},
   "outputs": [],
   "source": [
    "X_train, X_test, y_train, y_test = train_test_split(data.drop(['name', 'status'], axis=1), data['status'], test_size=.2, random_state=7, stratify=data['status'])\n",
    "X_val, X_test, y_val, y_test = train_test_split(X_test, y_test, test_size = 0.5, random_state = 7, stratify=y_test)"
   ]
  },
  {
   "cell_type": "markdown",
   "id": "9ef45149",
   "metadata": {},
   "source": [
    "## Результаты на валидационных данных"
   ]
  },
  {
   "cell_type": "code",
   "execution_count": 6,
   "id": "a305683f",
   "metadata": {},
   "outputs": [
    {
     "name": "stdout",
     "output_type": "stream",
     "text": [
      "              precision    recall  f1-score   support\n",
      "\n",
      "           0       1.00      0.80      0.89         5\n",
      "           1       0.93      1.00      0.97        14\n",
      "\n",
      "    accuracy                           0.95        19\n",
      "   macro avg       0.97      0.90      0.93        19\n",
      "weighted avg       0.95      0.95      0.95        19\n",
      "\n"
     ]
    }
   ],
   "source": [
    "bst = XGBClassifier(n_estimators=100, max_depth=20, learning_rate=0.4, objective='binary:logistic')\n",
    "\n",
    "bst.fit(X_train, y_train)\n",
    "\n",
    "preds = bst.predict(X_val)\n",
    "report = classification_report(y_val, preds)\n",
    "print(report)"
   ]
  },
  {
   "cell_type": "code",
   "execution_count": 7,
   "id": "55aae2a1",
   "metadata": {},
   "outputs": [
    {
     "name": "stdout",
     "output_type": "stream",
     "text": [
      "ROC AUC метрика\n"
     ]
    },
    {
     "data": {
      "text/plain": [
       "0.9571428571428572"
      ]
     },
     "execution_count": 7,
     "metadata": {},
     "output_type": "execute_result"
    }
   ],
   "source": [
    "y_score = bst.predict_proba(X_val)[:, 1]\n",
    "\n",
    "print('ROC AUC метрика')\n",
    "roc_auc_score(y_val, y_score)"
   ]
  },
  {
   "cell_type": "markdown",
   "id": "b46cd1cf",
   "metadata": {},
   "source": [
    "## Результаты на тестовых данных"
   ]
  },
  {
   "cell_type": "code",
   "execution_count": 12,
   "id": "289673cc-6214-43cf-a9af-62f86c8d127c",
   "metadata": {},
   "outputs": [
    {
     "name": "stdout",
     "output_type": "stream",
     "text": [
      "              precision    recall  f1-score   support\n",
      "\n",
      "           0       1.00      1.00      1.00         5\n",
      "           1       1.00      1.00      1.00        15\n",
      "\n",
      "    accuracy                           1.00        20\n",
      "   macro avg       1.00      1.00      1.00        20\n",
      "weighted avg       1.00      1.00      1.00        20\n",
      "\n"
     ]
    }
   ],
   "source": [
    "preds = bst.predict(X_test)\n",
    "report = classification_report(y_test, preds)\n",
    "print(report)"
   ]
  },
  {
   "cell_type": "code",
   "execution_count": 11,
   "id": "cdda1133-c0b0-4f09-bf24-dbe763ec1043",
   "metadata": {},
   "outputs": [
    {
     "name": "stdout",
     "output_type": "stream",
     "text": [
      "ROC AUC метрика\n"
     ]
    },
    {
     "data": {
      "text/plain": [
       "1.0"
      ]
     },
     "execution_count": 11,
     "metadata": {},
     "output_type": "execute_result"
    }
   ],
   "source": [
    "y_score = bst.predict_proba(X_test)[:, 1]\n",
    "\n",
    "print('ROC AUC метрика')\n",
    "roc_auc_score(y_test, y_score)"
   ]
  },
  {
   "cell_type": "code",
   "execution_count": 10,
   "id": "1ec8fa30-94d1-4d86-a390-25bd523a99e5",
   "metadata": {},
   "outputs": [
    {
     "data": {
      "text/plain": [
       "Text(0.5, 1.0, 'Матрица ошибок')"
      ]
     },
     "execution_count": 10,
     "metadata": {},
     "output_type": "execute_result"
    },
    {
     "data": {
      "image/png": "[encoded data removed]",
      "text/plain": [
       "<Figure size 640x480 with 2 Axes>"
      ]
     },
     "metadata": {},
     "output_type": "display_data"
    }
   ],
   "source": [
    "fig, ax = plt.subplots()\n",
    "ConfusionMatrixDisplay.from_predictions(y_test, preds, ax=ax)\n",
    "ax.set_title(\"Матрица ошибок\")"
   ]
  },
  {
   "cell_type": "code",
   "execution_count": null,
   "id": "f0d78201-d31b-4484-a55a-e35f9119ee02",
   "metadata": {},
   "outputs": [],
   "source": []
  }
 ],
 "metadata": {
  "kernelspec": {
   "display_name": "gpu",
   "language": "python",
   "name": "gpu"
  },
  "language_info": {
   "codemirror_mode": {
    "name": "ipython",
    "version": 3
   },
   "file_extension": ".py",
   "mimetype": "text/x-python",
   "name": "python",
   "nbconvert_exporter": "python",
   "pygments_lexer": "ipython3",
   "version": "3.10.13"
  }
 },
 "nbformat": 4,
 "nbformat_minor": 5
}
